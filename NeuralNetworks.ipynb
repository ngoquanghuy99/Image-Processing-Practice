{
 "cells": [
  {
   "cell_type": "markdown",
   "metadata": {},
   "source": [
    "Ngày nay với sự bùng nổ của internet nên lượng dữ liệu cực kì lớn, các công ty thiết kế đồ họa có những bước tiến vượt bậc, khả năng tính toán của GPU mạnh mẽ hơn rất nhiều ==> deep learning lên ngôi, mạng neural networks đặc biệt là các mạng CNN với các kiến trúc như VGG16, ResNet, ... đã 1 phần tiễn đưa rất nhiều thuật toán xử lí ảnh trong computer vision về vườn như SIFT, HOG, ...\n",
    "\n",
    "Giới thiệu về các thuật toán xử lí ảnh mà không giới thiệu Neural network thật là thiếu sót.\n",
    "\n",
    "Chúng ta sẽ xây dựng mạng neural network truyền thống để nhận dạng chữ số viết tay từ 0 đến 9 trên tập dữ liệu MNIST"
   ]
  },
  {
   "cell_type": "code",
   "execution_count": null,
   "metadata": {},
   "outputs": [],
   "source": []
  },
  {
   "cell_type": "code",
   "execution_count": 6,
   "metadata": {},
   "outputs": [],
   "source": [
    "import numpy as np\n",
    "import tensorflow as tf\n",
    "import matplotlib.pyplot as plt"
   ]
  },
  {
   "cell_type": "code",
   "execution_count": 2,
   "metadata": {},
   "outputs": [],
   "source": [
    "# load bộ dataset mnist\n",
    "mnist = tf.keras.datasets.mnist\n"
   ]
  },
  {
   "cell_type": "code",
   "execution_count": 3,
   "metadata": {},
   "outputs": [],
   "source": [
    "# chia dataset thành 2 tập train và test\n",
    "(x_train, y_train), (x_test, y_test) = mnist.load_data()\n",
    "# normalize lại tính toán cho dễ\n",
    "x_train, x_test = x_train / 255.0, x_test / 255.0"
   ]
  },
  {
   "cell_type": "code",
   "execution_count": 7,
   "metadata": {},
   "outputs": [
    {
     "data": {
      "image/png": "[encoded data removed]",
      "text/plain": [
       "<Figure size 432x288 with 9 Axes>"
      ]
     },
     "execution_count": 7,
     "metadata": {},
     "output_type": "execute_result"
    },
    {
     "data": {
      "image/png": "[encoded data removed]",
      "text/plain": [
       "<Figure size 432x288 with 9 Axes>"
      ]
     },
     "metadata": {},
     "output_type": "display_data"
    }
   ],
   "source": [
    "# xem một vài bức ảnh trong tập train và nhãn tương ứng của chúng\n",
    "fig = plt.figure()\n",
    "for i in range(9):\n",
    "    plt.subplot(3, 3, i+1)\n",
    "    plt.tight_layout()\n",
    "    plt.imshow(x_train[i], cmap='gray', interpolation='none')\n",
    "    plt.title(\"Class {}\".format(y_train[i]))\n",
    "    plt.xticks([])\n",
    "    plt.yticks([])\n",
    "fig"
   ]
  },
  {
   "cell_type": "code",
   "execution_count": 9,
   "metadata": {},
   "outputs": [
    {
     "name": "stdout",
     "output_type": "stream",
     "text": [
      "(60000, 28, 28)\n",
      "(60000,)\n",
      "(28, 28)\n",
      "()\n"
     ]
    }
   ],
   "source": [
    "print(x_train.shape)\n",
    "print(y_train.shape)\n",
    "print(x_train[0].shape)\n",
    "print(y_train[0].shape)"
   ]
  },
  {
   "cell_type": "code",
   "execution_count": null,
   "metadata": {},
   "outputs": [],
   "source": []
  },
  {
   "cell_type": "code",
   "execution_count": 4,
   "metadata": {},
   "outputs": [],
   "source": [
    "# xây dựng mô hình mạng neural network để rút trích đặc trưng và phân lớp\n",
    "model = tf.keras.models.Sequential([\n",
    "  tf.keras.layers.Flatten(input_shape=(28, 28)), # duỗi ảnh đầu vào (vector hóa)\n",
    "  tf.keras.layers.Dense(128, activation='relu'), # hàm kích hoạt relu\n",
    "  tf.keras.layers.Dropout(0.2), # thêm tý Dropout khắc phục đạo hàm bị mất mát\n",
    "  tf.keras.layers.Dense(10, activation='softmax') # lớp cuối cùng để phân lớp\n",
    "])\n",
    "# compile mô hình\n",
    "model.compile(optimizer='adam', # tối ưu dùng adam, 1 dạng của gradient descent\n",
    "              loss='sparse_categorical_crossentropy', # hàm loss sẽ dùng 1 loại dựa trên entropy chéo\n",
    "              metrics=['accuracy']) # đánh giá mô hình bằng accuracy"
   ]
  },
  {
   "cell_type": "code",
   "execution_count": 11,
   "metadata": {},
   "outputs": [
    {
     "name": "stdout",
     "output_type": "stream",
     "text": [
      "Epoch 1/5\n",
      "1875/1875 - 4s - loss: 0.0677 - accuracy: 0.9786 - val_loss: 0.0731 - val_accuracy: 0.9767\n",
      "Epoch 2/5\n",
      "1875/1875 - 4s - loss: 0.0584 - accuracy: 0.9814 - val_loss: 0.0719 - val_accuracy: 0.9803\n",
      "Epoch 3/5\n",
      "1875/1875 - 4s - loss: 0.0530 - accuracy: 0.9829 - val_loss: 0.0667 - val_accuracy: 0.9794\n",
      "Epoch 4/5\n",
      "1875/1875 - 4s - loss: 0.0493 - accuracy: 0.9838 - val_loss: 0.0710 - val_accuracy: 0.9799\n",
      "Epoch 5/5\n",
      "1875/1875 - 4s - loss: 0.0454 - accuracy: 0.9853 - val_loss: 0.0756 - val_accuracy: 0.9795\n"
     ]
    }
   ],
   "source": [
    "# huấn luyện mô hình \n",
    "his = model.fit(x_train, y_train, epochs=5, validation_data=(x_test, y_test), verbose=2)\n"
   ]
  },
  {
   "cell_type": "markdown",
   "metadata": {},
   "source": [
    "<p>Có thể thấy độ chính xác trên test set (tập dữ liệu kiểm thử) là cực kì cao.\n",
    "Cao hơn rất nhiều nếu ta sử dụng các thuật toán xử lí ảnh thông thường.\n",
    "Lí do tại sao? Do sử dụng mạng neural chúng ta sẽ cần 1 lượng dữ liệu khổng lồ để cho mạng học. Nếu như trong Machine learning hay xử lí ảnh truyền thống ta phải có 1 bước trích rút đặc trưng quan trọng rồi bắt đầu học thì ở đây chúng ta không làm thế. Mạng neural sẽ học các trọng số, càng nhiều dữ liệu nó càng học được càng nhiều. Khả năng regularization nó của nó càng tăng, độ chính xác càng cao và với dữ liệu mới nó có khả năng phân lớp chính xác cực cao. </p>\n",
    "\"Deep learning is the super power\" - Prof Andrew Ng"
   ]
  },
  {
   "cell_type": "code",
   "execution_count": null,
   "metadata": {},
   "outputs": [],
   "source": []
  }
 ],
 "metadata": {
  "kernelspec": {
   "display_name": "Python 3",
   "language": "python",
   "name": "python3"
  },
  "language_info": {
   "codemirror_mode": {
    "name": "ipython",
    "version": 3
   },
   "file_extension": ".py",
   "mimetype": "text/x-python",
   "name": "python",
   "nbconvert_exporter": "python",
   "pygments_lexer": "ipython3",
   "version": "3.6.5"
  }
 },
 "nbformat": 4,
 "nbformat_minor": 2
}
