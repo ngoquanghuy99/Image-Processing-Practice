{
 "cells": [
  {
   "cell_type": "markdown",
   "metadata": {},
   "source": [
    "# 4. Nhân chập với Sobel và Laplacian\n",
    "Để phát hiện biên, ta sẽ sử dụng đạo hàm bậc 1 và 2. Cụ thể ta sẽ xấp xỉ gradient bậc 1 bằng toán tử Sobel, tiếp ngay sau đó sẽ là gradient bậc 2 bằng Laplacian."
   ]
  },
  {
   "cell_type": "code",
   "execution_count": 1,
   "metadata": {},
   "outputs": [],
   "source": [
    "import cv2\n",
    "import numpy as np\n",
    "import matplotlib.pyplot as plt\n",
    "from skimage import io\n",
    "import random\n",
    "\n"
   ]
  },
  {
   "cell_type": "code",
   "execution_count": 2,
   "metadata": {},
   "outputs": [],
   "source": [
    "url = 'https://cdn.pixabay.com/photo/2014/09/11/04/38/shield-441403_960_720.png'"
   ]
  },
  {
   "cell_type": "code",
   "execution_count": 9,
   "metadata": {},
   "outputs": [],
   "source": [
    "img = cv2.imread('image1.jpg')\n",
    "cv2.imshow('anh', img)\n",
    "cv2.waitKey(0)\n",
    "cv2.destroyAllWindows()"
   ]
  },
  {
   "cell_type": "code",
   "execution_count": 10,
   "metadata": {},
   "outputs": [],
   "source": [
    "gray = cv2.cvtColor(img, cv2.COLOR_BGR2GRAY)"
   ]
  },
  {
   "cell_type": "code",
   "execution_count": 11,
   "metadata": {},
   "outputs": [],
   "source": [
    "cv2.imshow('anh xam', gray)\n",
    "cv2.waitKey(0)\n",
    "cv2.destroyAllWindows()"
   ]
  },
  {
   "cell_type": "code",
   "execution_count": 12,
   "metadata": {},
   "outputs": [],
   "source": [
    "sobelx = cv2.Sobel(gray, cv2.CV_64F, 1, 0, ksize=5)\n",
    "sobely = cv2.Sobel(gray, cv2.CV_64F, 0, 1, ksize=5)\n",
    "laplacian = cv2.Laplacian(gray, cv2.CV_64F, ksize=5)"
   ]
  },
  {
   "cell_type": "code",
   "execution_count": null,
   "metadata": {},
   "outputs": [],
   "source": []
  },
  {
   "cell_type": "code",
   "execution_count": 17,
   "metadata": {},
   "outputs": [
    {
     "data": {
      "text/plain": [
       "<matplotlib.image.AxesImage at 0x200d3392f28>"
      ]
     },
     "execution_count": 17,
     "metadata": {},
     "output_type": "execute_result"
    },
    {
     "data": {
      "image/png": "[encoded data removed]",
      "text/plain": [
       "<Figure size 864x216 with 4 Axes>"
      ]
     },
     "metadata": {},
     "output_type": "display_data"
    }
   ],
   "source": [
    "plt.subplot(221)\n",
    "plt.axis('off')\n",
    "plt.title('Original')\n",
    "plt.imshow(cv2.cvtColor(img, cv2.COLOR_BGR2RGB))\n",
    "\n",
    "plt.subplot(222)\n",
    "plt.axis('off')\n",
    "plt.title('sobelX')\n",
    "plt.imshow(sobelx, cmap='gray')\n",
    "\n",
    "plt.subplot(223)\n",
    "plt.axis('off')\n",
    "plt.title('sobelY')\n",
    "plt.imshow(sobely, cmap='gray')\n",
    "\n",
    "plt.subplot(224)\n",
    "plt.axis('off')\n",
    "plt.title('Laplacian')\n",
    "plt.imshow(sobely, cmap='gray')\n"
   ]
  },
  {
   "cell_type": "markdown",
   "metadata": {},
   "source": [
    "Với toán tử Sobel, xấp gradient theo x hay nhân chập mặt nạ sobel theo x với ảnh gốc sẽ giúp ta phát hiện được những sự thay đổi đáng kể của bức ảnh theo chiều ngang, xấp xỉ y sẽ giúp ta thấy được sự thay đổi theo chiều dọc.\n",
    "Với Laplacian thì biên của những vùng mà không liên tục sẽ được làm rõ hơn"
   ]
  },
  {
   "cell_type": "code",
   "execution_count": null,
   "metadata": {},
   "outputs": [],
   "source": []
  }
 ],
 "metadata": {
  "kernelspec": {
   "display_name": "Python 3",
   "language": "python",
   "name": "python3"
  },
  "language_info": {
   "codemirror_mode": {
    "name": "ipython",
    "version": 3
   },
   "file_extension": ".py",
   "mimetype": "text/x-python",
   "name": "python",
   "nbconvert_exporter": "python",
   "pygments_lexer": "ipython3",
   "version": "3.6.5"
  }
 },
 "nbformat": 4,
 "nbformat_minor": 2
}
