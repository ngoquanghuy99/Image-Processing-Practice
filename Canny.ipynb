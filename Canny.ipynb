{
 "cells": [
  {
   "cell_type": "markdown",
   "metadata": {},
   "source": [
    "# 2. Phát hiện biên Canny"
   ]
  },
  {
   "cell_type": "markdown",
   "metadata": {},
   "source": [
    "Chúng ta sẽ phát hiện biên sử dụng phương pháp Canny với các bước:\n",
    "- Làm mìn ảnh bằng lọc Gaussian\n",
    "- Tính độ lớn và hướng của Gradient bằng Sobel\n",
    "- Loại bỏ những giá trị không phải cực đại\n",
    "- Phân ngưỡng kép để xác định biên"
   ]
  },
  {
   "cell_type": "code",
   "execution_count": 1,
   "metadata": {},
   "outputs": [],
   "source": [
    "import cv2\n",
    "import numpy as np\n",
    "import matplotlib.pyplot as plt"
   ]
  },
  {
   "cell_type": "code",
   "execution_count": 2,
   "metadata": {},
   "outputs": [
    {
     "data": {
      "text/plain": [
       "True"
      ]
     },
     "execution_count": 2,
     "metadata": {},
     "output_type": "execute_result"
    }
   ],
   "source": [
    "def scale_to_0_255(img): # normalize lại giá trị các pixel sao về (0,1)\n",
    "    min_val = np.min(img)\n",
    "    max_val = np.max(img)\n",
    "    new_img = (img - min_val) / (max_val - min_val) # 0-1\n",
    "    new_img *= 255\n",
    "    return new_img\n",
    "\n",
    "# phương pháp canny\n",
    "def my_canny(img, min_val, max_val, sobel_size=3, is_L2_gradient=False):\n",
    "    \"\"\"\n",
    "    implement Canny algorithm in OpenCV tutorial @ https://docs.opencv.org/master/da/d22/tutorial_py_canny.html\n",
    "    \"\"\"\n",
    "    \n",
    "    #2. Noise Reduction (giảm nhiễu hay làm mịn ảnh, ta dùng bộ lọc \n",
    "    # Gaussian kernel 5x5). lưu ý kernel càng lớn thì độ nhạy cảm \n",
    "    # với nhiễu càng giảm\n",
    "    smooth_img = cv2.GaussianBlur(img, ksize=(5, 5), sigmaX=1, sigmaY=1)\n",
    "    \n",
    "    #3. Finding Intensity Gradient of the Image (sử dụng toán tử sobel đã học)\n",
    "    Gx = cv2.Sobel(smooth_img, cv2.CV_64F, 1, 0, ksize=sobel_size)\n",
    "    Gy = cv2.Sobel(smooth_img, cv2.CV_64F, 0, 1, ksize=sobel_size)\n",
    "    \n",
    "    # tính độ lớn (Theo cô Thảo ta chỉ sử dụng giá trị tuyệt đối nhưng ta hãy thử\n",
    "    # sử dụng khoảng cách Euclid)\n",
    "    if is_L2_gradient:\n",
    "        edge_gradient = np.sqrt(Gx*Gx + Gy*Gy)\n",
    "    else:\n",
    "        edge_gradient = np.abs(Gx) + np.abs(Gy)\n",
    "    \n",
    "    angle = np.arctan2(Gy, Gx) * 180 / np.pi\n",
    "    \n",
    "    # round angle to 4 directions # đơn giản chỉ là làm tròn theo 4 hướng\n",
    "    angle = np.abs(angle)\n",
    "    angle[angle <= 22.5] = 0\n",
    "    angle[angle >= 157.5] = 0\n",
    "    angle[(angle > 22.5) * (angle < 67.5)] = 45\n",
    "    angle[(angle >= 67.5) * (angle <= 112.5)] = 90\n",
    "    angle[(angle > 112.5) * (angle <= 157.5)] = 135\n",
    "    \n",
    "    #4. Non-maximum Suppression (loại bỏ những giá không phải cực đại)\n",
    "    keep_mask = np.zeros(smooth_img.shape, np.uint8)\n",
    "    for y in range(1, edge_gradient.shape[0]-1):\n",
    "        for x in range(1, edge_gradient.shape[1]-1):\n",
    "            area_grad_intensity = edge_gradient[y-1:y+2, x-1:x+2] # 3x3 area\n",
    "            area_angle = angle[y-1:y+2, x-1:x+2] # 3x3 area\n",
    "            current_angle = area_angle[1,1]\n",
    "            current_grad_intensity = area_grad_intensity[1,1]\n",
    "            \n",
    "            if current_angle == 0:\n",
    "                if current_grad_intensity > max(area_grad_intensity[1,0], area_grad_intensity[1,2]):\n",
    "                    keep_mask[y,x] = 255\n",
    "                else:\n",
    "                    edge_gradient[y,x] = 0\n",
    "            elif current_angle == 45:\n",
    "                if current_grad_intensity > max(area_grad_intensity[2,0], area_grad_intensity[0,2]):\n",
    "                    keep_mask[y,x] = 255\n",
    "                else:\n",
    "                    edge_gradient[y,x] = 0\n",
    "            elif current_angle == 90:\n",
    "                if current_grad_intensity > max(area_grad_intensity[0,1], area_grad_intensity[2,1]):\n",
    "                    keep_mask[y,x] = 255\n",
    "                else:\n",
    "                    edge_gradient[y,x] = 0\n",
    "            elif current_angle == 135:\n",
    "                if current_grad_intensity > max(area_grad_intensity[0,0], area_grad_intensity[2,2]):\n",
    "                    keep_mask[y,x] = 255\n",
    "                else:\n",
    "                    edge_gradient[y,x] = 0\n",
    "    \n",
    "    #5. Hysteresis Thresholding (Phân ngưỡng kép)\n",
    "    canny_mask = np.zeros(smooth_img.shape, np.uint8)\n",
    "    canny_mask[(keep_mask>0) * (edge_gradient>min_val)] = 255\n",
    "    \n",
    "    return scale_to_0_255(canny_mask)\n",
    "\n",
    "img = cv2.imread('lenna.png', 0)\n",
    "my_canny = my_canny(img, min_val=100, max_val=200)\n",
    "edges = cv2.Canny(img, 100, 200)\n",
    "\n",
    "cv2.imwrite('my_canny.jpg', my_canny)\n",
    "cv2.imwrite('edges.jpg', edges)"
   ]
  },
  {
   "cell_type": "code",
   "execution_count": 3,
   "metadata": {},
   "outputs": [
    {
     "data": {
      "image/png": "[encoded data removed]",
      "text/plain": [
       "<Figure size 432x288 with 2 Axes>"
      ]
     },
     "metadata": {},
     "output_type": "display_data"
    }
   ],
   "source": [
    "img1 = cv2.imread('my_canny.jpg')\n",
    "img2 = cv2.imread('edges.jpg')\n",
    "\n",
    "plt.subplot(121)\n",
    "plt.axis('off')\n",
    "plt.title('canny code chay')\n",
    "plt.imshow(img1)\n",
    "\n",
    "plt.subplot(122)\n",
    "plt.axis('off')\n",
    "plt.title('canny dùng hàm cv2.Canny')\n",
    "plt.imshow(img2)\n",
    "\n",
    "plt.show()"
   ]
  },
  {
   "cell_type": "markdown",
   "metadata": {},
   "source": [
    "Với kết quả trên, ta rút ra được rằng Canny không hoạt động tốt với những bức ảnh có mức độ chi tiết cao khi mà những chi tiết không phải nó có thể coi là biên. Tỉ lệ lỗi thấp. vị trí các biên rất gần, gần như trùng với biên gốc."
   ]
  },
  {
   "cell_type": "code",
   "execution_count": null,
   "metadata": {},
   "outputs": [],
   "source": []
  }
 ],
 "metadata": {
  "kernelspec": {
   "display_name": "Python 3",
   "language": "python",
   "name": "python3"
  },
  "language_info": {
   "codemirror_mode": {
    "name": "ipython",
    "version": 3
   },
   "file_extension": ".py",
   "mimetype": "text/x-python",
   "name": "python",
   "nbconvert_exporter": "python",
   "pygments_lexer": "ipython3",
   "version": "3.6.5"
  }
 },
 "nbformat": 4,
 "nbformat_minor": 2
}
